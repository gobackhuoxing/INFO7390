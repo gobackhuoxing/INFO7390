{
 "cells": [
  {
   "cell_type": "code",
   "execution_count": 1,
   "metadata": {
    "collapsed": true
   },
   "outputs": [],
   "source": [
    "from __future__ import print_function\n",
    "import urllib3 #  pip install -i https://pypi.anaconda.org/pypi/simple urllib3\n",
    "import unicodedata\n",
    "from bs4 import BeautifulSoup, SoupStrainer, Comment\n",
    "import warnings\n",
    "import datetime\n",
    "import csv\n",
    "\n",
    "warnings.filterwarnings('ignore')"
   ]
  },
  {
   "cell_type": "code",
   "execution_count": 2,
   "metadata": {},
   "outputs": [
    {
     "data": {
      "text/plain": [
       "200"
      ]
     },
     "execution_count": 2,
     "metadata": {},
     "output_type": "execute_result"
    }
   ],
   "source": [
    "## Free ebooks - Project Gutenberg\n",
    "url='https://www.gutenberg.org/'\n",
    "http = urllib3.PoolManager()\n",
    "response = http.request('GET',url)\n",
    "response.status"
   ]
  },
  {
   "cell_type": "code",
   "execution_count": 3,
   "metadata": {
    "collapsed": true
   },
   "outputs": [],
   "source": [
    "soup=BeautifulSoup(response.data, \"lxml\")\n",
    "l=soup.find_all('a')"
   ]
  },
  {
   "cell_type": "code",
   "execution_count": 4,
   "metadata": {},
   "outputs": [
    {
     "name": "stdout",
     "output_type": "stream",
     "text": [
      "['http://m.gutenberg.org/', None, '18-01-17-16-30', True]\n",
      "['http://m.gutenberg.org/', 'Project Gutenberg Mobile Site', '18-01-17-16-30', True]\n",
      "['https://www.pgdp.net', 'digitizing more books', '18-01-17-16-30', True]\n",
      "['https://librivox.org', 'recording audio books', '18-01-17-16-30', True]\n",
      "['https://www.usa.gov/elected-officials', 'contact their US lawmaker', '18-01-17-16-30', True]\n",
      "['https://law.duke.edu/cspd/publicdomainday', 'Public Domain Day', '18-01-17-16-30', True]\n",
      "['http://self.gutenberg.org', 'self.gutenberg.org', '18-01-17-16-30', True]\n",
      "['http://www.pgdp.net', 'Distributed Proofreaders', '18-01-17-16-30', True]\n",
      "['https://librivox.org', 'LibriVox', '18-01-17-16-30', True]\n",
      "['http://www.gutenbergnews.org', 'News and Newsletters', '18-01-17-16-30', True]\n",
      "['http://www.gutenbergnews.org', 'News', '18-01-17-16-30', True]\n",
      "['http://www.ibiblio.org/index.html', None, '18-01-17-16-30', True]\n"
     ]
    }
   ],
   "source": [
    "result = []\n",
    "\n",
    "## https://www.blog.pythonlibrary.org/2014/02/26/python-101-reading-and-writing-csv-files/\n",
    "def csv_writer(data, path):\n",
    "    with open(path, \"w\", newline='') as csv_file:\n",
    "        writer = csv.writer(csv_file, delimiter=',')\n",
    "        for line in data:\n",
    "            writer.writerow(line)\n",
    "## I found this csv writer method on https://www.blog.pythonlibrary.org/2014/02/26/python-101-reading-and-writing-csv-files/\n",
    "\n",
    "for x in l:\n",
    "    if(x.has_attr('href')):\n",
    "        if (x['href'][:4] == \"http\"):\n",
    "            if(x['href'][7:24] != \"www.gutenberg.org\"):\n",
    "                if(http.request('GET',x['href']).status == 200):\n",
    "                    valid = True\n",
    "                else: valid = False\n",
    "                text = x.string\n",
    "                time = datetime.datetime.now().strftime(\"%y-%m-%d-%H-%M\")\n",
    "                link = x['href']\n",
    "                tmp=[]\n",
    "                tmp.append(link)\n",
    "                tmp.append(text)\n",
    "                tmp.append(time)\n",
    "                tmp.append(valid)\n",
    "                result.append(tmp)\n",
    "                print (tmp)\n",
    "path = \"output.csv\"\n",
    "csv_writer(result, path)"
   ]
  }
 ],
 "metadata": {
  "kernelspec": {
   "display_name": "Python 3",
   "language": "python",
   "name": "python3"
  },
  "language_info": {
   "codemirror_mode": {
    "name": "ipython",
    "version": 3
   },
   "file_extension": ".py",
   "mimetype": "text/x-python",
   "name": "python",
   "nbconvert_exporter": "python",
   "pygments_lexer": "ipython3",
   "version": "3.6.3"
  }
 },
 "nbformat": 4,
 "nbformat_minor": 2
}
